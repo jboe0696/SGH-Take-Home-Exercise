{
 "cells": [
  {
   "cell_type": "markdown",
   "id": "7ed75d5c",
   "metadata": {},
   "source": [
    "# Boey Jit Ming, Benjamin\n",
    "\n",
    "In this notebook we are first normalizing and cleaning the data, then creating tables in an SQLite3 database and inserting the data, before using SQL statements to retrieve the appropriate data to create 3 informative visualizations. \n",
    "\n",
    "For reproducibility, this notebook should be inserted in a folder that contains another folder called \"data\", which should contain all 4 datasets from Kaggle - \"Adult mortality.csv\", \"Maternal mortality.csv\", \"Number of deaths (thousands).csv\", and \"Probability of dying per 1000 live births.csv\".\n",
    "\n",
    "The three visualizations will attempt to answer the following driving questions:\n",
    "\n",
    "* Which country had the highest average mortality rate across all available years?\n",
    "* Which country had the highest neonatal death toll in 2012?\n",
    "* Which country had the highest birth rate from 2000-2017?\n",
    "\n"
   ]
  },
  {
   "cell_type": "markdown",
   "id": "d7a241a1",
   "metadata": {},
   "source": [
    "# Import required libraries\n"
   ]
  },
  {
   "cell_type": "code",
   "execution_count": 1,
   "id": "984c1d2d",
   "metadata": {},
   "outputs": [],
   "source": [
    "import pandas as pd\n",
    "import os\n",
    "import matplotlib.pyplot as plt\n",
    "import numpy as np\n",
    "import sqlite3\n"
   ]
  },
  {
   "cell_type": "markdown",
   "id": "0c2badb0",
   "metadata": {},
   "source": [
    "# Read in data and clean it\n",
    "\n",
    "We now read in the datasets using pandas."
   ]
  },
  {
   "cell_type": "code",
   "execution_count": 2,
   "id": "f2510233",
   "metadata": {},
   "outputs": [],
   "source": [
    "adult_mortality_raw = pd.read_csv('./data/Adult mortality.csv')\n",
    "maternal_mortality_raw = pd.read_csv('./data/Maternal mortality.csv')\n",
    "num_deaths_raw = pd.read_csv('./data/Number of deaths (thousands).csv')\n",
    "probability_dying_raw = pd.read_csv('./data/Probability of dying per 1000 live births.csv')"
   ]
  },
  {
   "cell_type": "markdown",
   "id": "48757bd0",
   "metadata": {},
   "source": [
    "Check the columns and their types, to see if any types should be converted."
   ]
  },
  {
   "cell_type": "code",
   "execution_count": 3,
   "id": "b163c947",
   "metadata": {},
   "outputs": [
    {
     "name": "stdout",
     "output_type": "stream",
     "text": [
      "Adult mortality types\n",
      "Unnamed: 0                                                                                   object\n",
      "Unnamed: 1                                                                                   object\n",
      "Adult mortality rate (probability of dying between 15 and 60 years per 1000 population)      object\n",
      "Adult mortality rate (probability of dying between 15 and 60 years per 1000 population).1    object\n",
      "Adult mortality rate (probability of dying between 15 and 60 years per 1000 population).2    object\n",
      "dtype: object\n",
      "\n",
      "Maternal mortality types\n",
      "Country                                               object\n",
      "Year                                                   int64\n",
      "Maternal mortality ratio (per 100 000 live births)    object\n",
      "Number of maternal deaths                             object\n",
      "dtype: object\n",
      "\n",
      "Number of deaths types\n",
      "Unnamed: 0                                   object\n",
      "Unnamed: 1                                   object\n",
      "Number of under-five deaths (thousands)      object\n",
      "Number of under-five deaths (thousands).1    object\n",
      "Number of under-five deaths (thousands).2    object\n",
      "Number of infant deaths (thousands)          object\n",
      "Number of infant deaths (thousands).1        object\n",
      "Number of infant deaths (thousands).2        object\n",
      "Number of neonatal deaths (thousands)        object\n",
      "dtype: object\n",
      "\n",
      "Probability of dying types\n",
      "Unnamed: 0                                                                                     object\n",
      "Unnamed: 1                                                                                     object\n",
      "Infant mortality rate (probability of dying between birth and age 1 per 1000 live births)      object\n",
      "Infant mortality rate (probability of dying between birth and age 1 per 1000 live births).1    object\n",
      "Infant mortality rate (probability of dying between birth and age 1 per 1000 live births).2    object\n",
      "Neonatal mortality rate (per 1000 live births)                                                 object\n",
      "Under-five mortality rate (probability of dying by age 5 per 1000 live births)                 object\n",
      "Under-five mortality rate (probability of dying by age 5 per 1000 live births).1               object\n",
      "Under-five mortality rate (probability of dying by age 5 per 1000 live births).2               object\n",
      "dtype: object\n"
     ]
    }
   ],
   "source": [
    "print('Adult mortality types')\n",
    "print(adult_mortality_raw.dtypes)\n",
    "print('\\nMaternal mortality types')\n",
    "print(maternal_mortality_raw.dtypes)\n",
    "print('\\nNumber of deaths types')\n",
    "print(num_deaths_raw.dtypes)\n",
    "print('\\nProbability of dying types')\n",
    "print(probability_dying_raw.dtypes)"
   ]
  },
  {
   "cell_type": "markdown",
   "id": "0a58743a",
   "metadata": {},
   "source": [
    "We can see that many of the columns containing integer values are stored as strings instead, and some of the columns are unnamed. Looking at the data from the Kaggle website itself, it is now clear that some datasets have more specific headings in the second row instead.  \n",
    "\n",
    "In order to insert the data into our SQlite3 tables, we need to clean the data; dropping the 1st row in the datasets where the first row are column headings, and also transforming all our integer columns to integers, since all of them are stored as strings instead. Please note that many of the values in the \"Probability of dying\" dataset are not whole numbers, so they are converted to float instead.\n",
    "\n",
    "From Kaggle, we can see that there are no missing values, but if we did not have that information, we would have to decide whether to drop all rows with missing value, or try to impute the missing data.\n"
   ]
  },
  {
   "cell_type": "markdown",
   "id": "012a05df",
   "metadata": {},
   "source": [
    "# Data cleaning and transformations\n",
    "\n",
    "At no point should we change the raw data; we will create new datasets and apply our cleaning/transformations to them.\n",
    "\n",
    "## Adult Mortality\n"
   ]
  },
  {
   "cell_type": "code",
   "execution_count": 4,
   "id": "e9be82c8",
   "metadata": {},
   "outputs": [
    {
     "data": {
      "text/html": [
       "<div>\n",
       "<style scoped>\n",
       "    .dataframe tbody tr th:only-of-type {\n",
       "        vertical-align: middle;\n",
       "    }\n",
       "\n",
       "    .dataframe tbody tr th {\n",
       "        vertical-align: top;\n",
       "    }\n",
       "\n",
       "    .dataframe thead th {\n",
       "        text-align: right;\n",
       "    }\n",
       "</style>\n",
       "<table border=\"1\" class=\"dataframe\">\n",
       "  <thead>\n",
       "    <tr style=\"text-align: right;\">\n",
       "      <th></th>\n",
       "      <th>Unnamed: 0</th>\n",
       "      <th>Unnamed: 1</th>\n",
       "      <th>Adult mortality rate (probability of dying between 15 and 60 years per 1000 population)</th>\n",
       "      <th>Adult mortality rate (probability of dying between 15 and 60 years per 1000 population).1</th>\n",
       "      <th>Adult mortality rate (probability of dying between 15 and 60 years per 1000 population).2</th>\n",
       "    </tr>\n",
       "  </thead>\n",
       "  <tbody>\n",
       "    <tr>\n",
       "      <th>0</th>\n",
       "      <td>Country</td>\n",
       "      <td>Year</td>\n",
       "      <td>Both sexes</td>\n",
       "      <td>Male</td>\n",
       "      <td>Female</td>\n",
       "    </tr>\n",
       "    <tr>\n",
       "      <th>1</th>\n",
       "      <td>Afghanistan</td>\n",
       "      <td>2016</td>\n",
       "      <td>245</td>\n",
       "      <td>272</td>\n",
       "      <td>216</td>\n",
       "    </tr>\n",
       "    <tr>\n",
       "      <th>2</th>\n",
       "      <td>Afghanistan</td>\n",
       "      <td>2015</td>\n",
       "      <td>233</td>\n",
       "      <td>254</td>\n",
       "      <td>210</td>\n",
       "    </tr>\n",
       "    <tr>\n",
       "      <th>3</th>\n",
       "      <td>Afghanistan</td>\n",
       "      <td>2014</td>\n",
       "      <td>234</td>\n",
       "      <td>254</td>\n",
       "      <td>213</td>\n",
       "    </tr>\n",
       "    <tr>\n",
       "      <th>4</th>\n",
       "      <td>Afghanistan</td>\n",
       "      <td>2013</td>\n",
       "      <td>235</td>\n",
       "      <td>254</td>\n",
       "      <td>215</td>\n",
       "    </tr>\n",
       "  </tbody>\n",
       "</table>\n",
       "</div>"
      ],
      "text/plain": [
       "    Unnamed: 0 Unnamed: 1  \\\n",
       "0      Country       Year   \n",
       "1  Afghanistan       2016   \n",
       "2  Afghanistan       2015   \n",
       "3  Afghanistan       2014   \n",
       "4  Afghanistan       2013   \n",
       "\n",
       "  Adult mortality rate (probability of dying between 15 and 60 years per 1000 population)  \\\n",
       "0                                         Both sexes                                        \n",
       "1                                                245                                        \n",
       "2                                                233                                        \n",
       "3                                                234                                        \n",
       "4                                                235                                        \n",
       "\n",
       "  Adult mortality rate (probability of dying between 15 and 60 years per 1000 population).1  \\\n",
       "0                                               Male                                          \n",
       "1                                                272                                          \n",
       "2                                                254                                          \n",
       "3                                                254                                          \n",
       "4                                                254                                          \n",
       "\n",
       "  Adult mortality rate (probability of dying between 15 and 60 years per 1000 population).2  \n",
       "0                                             Female                                         \n",
       "1                                                216                                         \n",
       "2                                                210                                         \n",
       "3                                                213                                         \n",
       "4                                                215                                         "
      ]
     },
     "execution_count": 4,
     "metadata": {},
     "output_type": "execute_result"
    }
   ],
   "source": [
    "adult_mortality_raw.head()"
   ]
  },
  {
   "cell_type": "markdown",
   "id": "17458ccb",
   "metadata": {},
   "source": [
    "Dropping the first row as it contains headers, then changing the column names "
   ]
  },
  {
   "cell_type": "code",
   "execution_count": 5,
   "id": "6e430103",
   "metadata": {},
   "outputs": [],
   "source": [
    "adult_mortality = adult_mortality_raw.drop(0)\n",
    "adult_mortality.rename(columns={'Unnamed: 0':'country', \n",
    "                                'Unnamed: 1':'year', \n",
    "                                'Adult mortality rate (probability of dying between 15 and 60 years per 1000 population)':'adult_mortality_both', \n",
    "                                'Adult mortality rate (probability of dying between 15 and 60 years per 1000 population).1':'adult_mortality_male', \n",
    "                                'Adult mortality rate (probability of dying between 15 and 60 years per 1000 population).2':'adult_mortality_female'\n",
    "                               }, inplace=True)"
   ]
  },
  {
   "cell_type": "markdown",
   "id": "c0ac5762",
   "metadata": {},
   "source": [
    "Changing the relevant columns to integer types, since they were stored as strings previously"
   ]
  },
  {
   "cell_type": "code",
   "execution_count": 6,
   "id": "f226f86d",
   "metadata": {},
   "outputs": [],
   "source": [
    "adult_mortality = adult_mortality.astype({'year':'int', \n",
    "                                          'adult_mortality_both':'int', \n",
    "                                          'adult_mortality_male':'int', \n",
    "                                          'adult_mortality_female':'int'})"
   ]
  },
  {
   "cell_type": "code",
   "execution_count": 7,
   "id": "ef3101f4",
   "metadata": {},
   "outputs": [
    {
     "data": {
      "text/html": [
       "<div>\n",
       "<style scoped>\n",
       "    .dataframe tbody tr th:only-of-type {\n",
       "        vertical-align: middle;\n",
       "    }\n",
       "\n",
       "    .dataframe tbody tr th {\n",
       "        vertical-align: top;\n",
       "    }\n",
       "\n",
       "    .dataframe thead th {\n",
       "        text-align: right;\n",
       "    }\n",
       "</style>\n",
       "<table border=\"1\" class=\"dataframe\">\n",
       "  <thead>\n",
       "    <tr style=\"text-align: right;\">\n",
       "      <th></th>\n",
       "      <th>country</th>\n",
       "      <th>year</th>\n",
       "      <th>adult_mortality_both</th>\n",
       "      <th>adult_mortality_male</th>\n",
       "      <th>adult_mortality_female</th>\n",
       "    </tr>\n",
       "  </thead>\n",
       "  <tbody>\n",
       "    <tr>\n",
       "      <th>1</th>\n",
       "      <td>Afghanistan</td>\n",
       "      <td>2016</td>\n",
       "      <td>245</td>\n",
       "      <td>272</td>\n",
       "      <td>216</td>\n",
       "    </tr>\n",
       "    <tr>\n",
       "      <th>2</th>\n",
       "      <td>Afghanistan</td>\n",
       "      <td>2015</td>\n",
       "      <td>233</td>\n",
       "      <td>254</td>\n",
       "      <td>210</td>\n",
       "    </tr>\n",
       "    <tr>\n",
       "      <th>3</th>\n",
       "      <td>Afghanistan</td>\n",
       "      <td>2014</td>\n",
       "      <td>234</td>\n",
       "      <td>254</td>\n",
       "      <td>213</td>\n",
       "    </tr>\n",
       "    <tr>\n",
       "      <th>4</th>\n",
       "      <td>Afghanistan</td>\n",
       "      <td>2013</td>\n",
       "      <td>235</td>\n",
       "      <td>254</td>\n",
       "      <td>215</td>\n",
       "    </tr>\n",
       "    <tr>\n",
       "      <th>5</th>\n",
       "      <td>Afghanistan</td>\n",
       "      <td>2012</td>\n",
       "      <td>242</td>\n",
       "      <td>262</td>\n",
       "      <td>221</td>\n",
       "    </tr>\n",
       "  </tbody>\n",
       "</table>\n",
       "</div>"
      ],
      "text/plain": [
       "       country  year  adult_mortality_both  adult_mortality_male  \\\n",
       "1  Afghanistan  2016                   245                   272   \n",
       "2  Afghanistan  2015                   233                   254   \n",
       "3  Afghanistan  2014                   234                   254   \n",
       "4  Afghanistan  2013                   235                   254   \n",
       "5  Afghanistan  2012                   242                   262   \n",
       "\n",
       "   adult_mortality_female  \n",
       "1                     216  \n",
       "2                     210  \n",
       "3                     213  \n",
       "4                     215  \n",
       "5                     221  "
      ]
     },
     "execution_count": 7,
     "metadata": {},
     "output_type": "execute_result"
    }
   ],
   "source": [
    "adult_mortality.head()"
   ]
  },
  {
   "cell_type": "markdown",
   "id": "001c0b02",
   "metadata": {},
   "source": [
    "\n",
    "## Maternal Mortality\n"
   ]
  },
  {
   "cell_type": "code",
   "execution_count": 8,
   "id": "a8180735",
   "metadata": {},
   "outputs": [
    {
     "data": {
      "text/html": [
       "<div>\n",
       "<style scoped>\n",
       "    .dataframe tbody tr th:only-of-type {\n",
       "        vertical-align: middle;\n",
       "    }\n",
       "\n",
       "    .dataframe tbody tr th {\n",
       "        vertical-align: top;\n",
       "    }\n",
       "\n",
       "    .dataframe thead th {\n",
       "        text-align: right;\n",
       "    }\n",
       "</style>\n",
       "<table border=\"1\" class=\"dataframe\">\n",
       "  <thead>\n",
       "    <tr style=\"text-align: right;\">\n",
       "      <th></th>\n",
       "      <th>Country</th>\n",
       "      <th>Year</th>\n",
       "      <th>Maternal mortality ratio (per 100 000 live births)</th>\n",
       "      <th>Number of maternal deaths</th>\n",
       "    </tr>\n",
       "  </thead>\n",
       "  <tbody>\n",
       "    <tr>\n",
       "      <th>0</th>\n",
       "      <td>Afghanistan</td>\n",
       "      <td>2017</td>\n",
       "      <td>638 [ 427 - 1 010 ]</td>\n",
       "      <td>7 700 [ 5 100 - 12 000 ]</td>\n",
       "    </tr>\n",
       "    <tr>\n",
       "      <th>1</th>\n",
       "      <td>Afghanistan</td>\n",
       "      <td>2016</td>\n",
       "      <td>673 [ 457 - 1 040 ]</td>\n",
       "      <td>8 100 [ 5 500 - 12 000 ]</td>\n",
       "    </tr>\n",
       "    <tr>\n",
       "      <th>2</th>\n",
       "      <td>Afghanistan</td>\n",
       "      <td>2015</td>\n",
       "      <td>701 [ 501 - 1 020 ]</td>\n",
       "      <td>8 400 [ 6 000 - 12 000 ]</td>\n",
       "    </tr>\n",
       "    <tr>\n",
       "      <th>3</th>\n",
       "      <td>Afghanistan</td>\n",
       "      <td>2014</td>\n",
       "      <td>786 [ 592 - 1 080 ]</td>\n",
       "      <td>9 300 [ 7 000 - 13 000 ]</td>\n",
       "    </tr>\n",
       "    <tr>\n",
       "      <th>4</th>\n",
       "      <td>Afghanistan</td>\n",
       "      <td>2013</td>\n",
       "      <td>810 [ 617 - 1 080 ]</td>\n",
       "      <td>9 600 [ 7 300 - 13 000 ]</td>\n",
       "    </tr>\n",
       "  </tbody>\n",
       "</table>\n",
       "</div>"
      ],
      "text/plain": [
       "       Country  Year Maternal mortality ratio (per 100 000 live births)  \\\n",
       "0  Afghanistan  2017                                638 [ 427 - 1 010 ]   \n",
       "1  Afghanistan  2016                                673 [ 457 - 1 040 ]   \n",
       "2  Afghanistan  2015                                701 [ 501 - 1 020 ]   \n",
       "3  Afghanistan  2014                                786 [ 592 - 1 080 ]   \n",
       "4  Afghanistan  2013                                810 [ 617 - 1 080 ]   \n",
       "\n",
       "  Number of maternal deaths  \n",
       "0  7 700 [ 5 100 - 12 000 ]  \n",
       "1  8 100 [ 5 500 - 12 000 ]  \n",
       "2  8 400 [ 6 000 - 12 000 ]  \n",
       "3  9 300 [ 7 000 - 13 000 ]  \n",
       "4  9 600 [ 7 300 - 13 000 ]  "
      ]
     },
     "execution_count": 8,
     "metadata": {},
     "output_type": "execute_result"
    }
   ],
   "source": [
    "maternal_mortality_raw.head()"
   ]
  },
  {
   "cell_type": "markdown",
   "id": "7c65fba5",
   "metadata": {},
   "source": [
    "There are no headers in the rows themselves, so no rows need to be dropped. However, the columns need to be renamed. For all datasets, it is important to remember the ratios, whether the data is per 1000 or per 100,000; however, I am not keeping track of this in the columns themselves."
   ]
  },
  {
   "cell_type": "code",
   "execution_count": 9,
   "id": "dd04f0aa",
   "metadata": {},
   "outputs": [],
   "source": [
    "maternal_mortality = maternal_mortality_raw.rename(columns={'Country':'country', \n",
    "                                                            'Year':'year', \n",
    "                                                            'Maternal mortality ratio (per 100 000 live births)':'maternal_mortality_ratio', \n",
    "                                                            'Number of maternal deaths':'maternal_deaths'\n",
    "                                                           })"
   ]
  },
  {
   "cell_type": "markdown",
   "id": "02d5f836",
   "metadata": {},
   "source": [
    "Now we change the relevant columns from strings to integers."
   ]
  },
  {
   "cell_type": "code",
   "execution_count": 10,
   "id": "1615f37c",
   "metadata": {},
   "outputs": [],
   "source": [
    "maternal_mortality = maternal_mortality.astype({'year':'int'})"
   ]
  },
  {
   "cell_type": "markdown",
   "id": "6f02fb6d",
   "metadata": {},
   "source": [
    "I confess I am not quite sure why the mortality ratios and number of maternal deaths are presented as \"x [ y - z ]\", and there exists no metadata on the Kaggle page that explains this, but I shall leave that aside for now."
   ]
  },
  {
   "cell_type": "code",
   "execution_count": 11,
   "id": "ecab4104",
   "metadata": {},
   "outputs": [
    {
     "data": {
      "text/html": [
       "<div>\n",
       "<style scoped>\n",
       "    .dataframe tbody tr th:only-of-type {\n",
       "        vertical-align: middle;\n",
       "    }\n",
       "\n",
       "    .dataframe tbody tr th {\n",
       "        vertical-align: top;\n",
       "    }\n",
       "\n",
       "    .dataframe thead th {\n",
       "        text-align: right;\n",
       "    }\n",
       "</style>\n",
       "<table border=\"1\" class=\"dataframe\">\n",
       "  <thead>\n",
       "    <tr style=\"text-align: right;\">\n",
       "      <th></th>\n",
       "      <th>country</th>\n",
       "      <th>year</th>\n",
       "      <th>maternal_mortality_ratio</th>\n",
       "      <th>maternal_deaths</th>\n",
       "    </tr>\n",
       "  </thead>\n",
       "  <tbody>\n",
       "    <tr>\n",
       "      <th>0</th>\n",
       "      <td>Afghanistan</td>\n",
       "      <td>2017</td>\n",
       "      <td>638 [ 427 - 1 010 ]</td>\n",
       "      <td>7 700 [ 5 100 - 12 000 ]</td>\n",
       "    </tr>\n",
       "    <tr>\n",
       "      <th>1</th>\n",
       "      <td>Afghanistan</td>\n",
       "      <td>2016</td>\n",
       "      <td>673 [ 457 - 1 040 ]</td>\n",
       "      <td>8 100 [ 5 500 - 12 000 ]</td>\n",
       "    </tr>\n",
       "    <tr>\n",
       "      <th>2</th>\n",
       "      <td>Afghanistan</td>\n",
       "      <td>2015</td>\n",
       "      <td>701 [ 501 - 1 020 ]</td>\n",
       "      <td>8 400 [ 6 000 - 12 000 ]</td>\n",
       "    </tr>\n",
       "    <tr>\n",
       "      <th>3</th>\n",
       "      <td>Afghanistan</td>\n",
       "      <td>2014</td>\n",
       "      <td>786 [ 592 - 1 080 ]</td>\n",
       "      <td>9 300 [ 7 000 - 13 000 ]</td>\n",
       "    </tr>\n",
       "    <tr>\n",
       "      <th>4</th>\n",
       "      <td>Afghanistan</td>\n",
       "      <td>2013</td>\n",
       "      <td>810 [ 617 - 1 080 ]</td>\n",
       "      <td>9 600 [ 7 300 - 13 000 ]</td>\n",
       "    </tr>\n",
       "  </tbody>\n",
       "</table>\n",
       "</div>"
      ],
      "text/plain": [
       "       country  year maternal_mortality_ratio           maternal_deaths\n",
       "0  Afghanistan  2017      638 [ 427 - 1 010 ]  7 700 [ 5 100 - 12 000 ]\n",
       "1  Afghanistan  2016      673 [ 457 - 1 040 ]  8 100 [ 5 500 - 12 000 ]\n",
       "2  Afghanistan  2015      701 [ 501 - 1 020 ]  8 400 [ 6 000 - 12 000 ]\n",
       "3  Afghanistan  2014      786 [ 592 - 1 080 ]  9 300 [ 7 000 - 13 000 ]\n",
       "4  Afghanistan  2013      810 [ 617 - 1 080 ]  9 600 [ 7 300 - 13 000 ]"
      ]
     },
     "execution_count": 11,
     "metadata": {},
     "output_type": "execute_result"
    }
   ],
   "source": [
    "maternal_mortality.head()"
   ]
  },
  {
   "cell_type": "markdown",
   "id": "77048423",
   "metadata": {},
   "source": [
    "\n",
    "## Number of deaths (thousands)\n"
   ]
  },
  {
   "cell_type": "code",
   "execution_count": 12,
   "id": "1a4fefa3",
   "metadata": {},
   "outputs": [
    {
     "data": {
      "text/html": [
       "<div>\n",
       "<style scoped>\n",
       "    .dataframe tbody tr th:only-of-type {\n",
       "        vertical-align: middle;\n",
       "    }\n",
       "\n",
       "    .dataframe tbody tr th {\n",
       "        vertical-align: top;\n",
       "    }\n",
       "\n",
       "    .dataframe thead th {\n",
       "        text-align: right;\n",
       "    }\n",
       "</style>\n",
       "<table border=\"1\" class=\"dataframe\">\n",
       "  <thead>\n",
       "    <tr style=\"text-align: right;\">\n",
       "      <th></th>\n",
       "      <th>Unnamed: 0</th>\n",
       "      <th>Unnamed: 1</th>\n",
       "      <th>Number of under-five deaths (thousands)</th>\n",
       "      <th>Number of under-five deaths (thousands).1</th>\n",
       "      <th>Number of under-five deaths (thousands).2</th>\n",
       "      <th>Number of infant deaths (thousands)</th>\n",
       "      <th>Number of infant deaths (thousands).1</th>\n",
       "      <th>Number of infant deaths (thousands).2</th>\n",
       "      <th>Number of neonatal deaths (thousands)</th>\n",
       "    </tr>\n",
       "  </thead>\n",
       "  <tbody>\n",
       "    <tr>\n",
       "      <th>0</th>\n",
       "      <td>Country</td>\n",
       "      <td>Year</td>\n",
       "      <td>Both sexes</td>\n",
       "      <td>Male</td>\n",
       "      <td>Female</td>\n",
       "      <td>Both sexes</td>\n",
       "      <td>Male</td>\n",
       "      <td>Female</td>\n",
       "      <td>Both sexes</td>\n",
       "    </tr>\n",
       "    <tr>\n",
       "      <th>1</th>\n",
       "      <td>Afghanistan</td>\n",
       "      <td>2018</td>\n",
       "      <td>74278</td>\n",
       "      <td>40312</td>\n",
       "      <td>33966</td>\n",
       "      <td>57182</td>\n",
       "      <td>31394</td>\n",
       "      <td>25788</td>\n",
       "      <td>44725</td>\n",
       "    </tr>\n",
       "    <tr>\n",
       "      <th>2</th>\n",
       "      <td>Afghanistan</td>\n",
       "      <td>2017</td>\n",
       "      <td>76877</td>\n",
       "      <td>41631</td>\n",
       "      <td>35246</td>\n",
       "      <td>58846</td>\n",
       "      <td>32244</td>\n",
       "      <td>26602</td>\n",
       "      <td>45771</td>\n",
       "    </tr>\n",
       "    <tr>\n",
       "      <th>3</th>\n",
       "      <td>Afghanistan</td>\n",
       "      <td>2016</td>\n",
       "      <td>79770</td>\n",
       "      <td>43134</td>\n",
       "      <td>36636</td>\n",
       "      <td>60673</td>\n",
       "      <td>33222</td>\n",
       "      <td>27451</td>\n",
       "      <td>46963</td>\n",
       "    </tr>\n",
       "    <tr>\n",
       "      <th>4</th>\n",
       "      <td>Afghanistan</td>\n",
       "      <td>2015</td>\n",
       "      <td>82918</td>\n",
       "      <td>44733</td>\n",
       "      <td>38185</td>\n",
       "      <td>62652</td>\n",
       "      <td>34257</td>\n",
       "      <td>28395</td>\n",
       "      <td>48237</td>\n",
       "    </tr>\n",
       "  </tbody>\n",
       "</table>\n",
       "</div>"
      ],
      "text/plain": [
       "    Unnamed: 0 Unnamed: 1 Number of under-five deaths (thousands)  \\\n",
       "0      Country       Year                              Both sexes   \n",
       "1  Afghanistan       2018                                   74278   \n",
       "2  Afghanistan       2017                                   76877   \n",
       "3  Afghanistan       2016                                   79770   \n",
       "4  Afghanistan       2015                                   82918   \n",
       "\n",
       "  Number of under-five deaths (thousands).1  \\\n",
       "0                                      Male   \n",
       "1                                     40312   \n",
       "2                                     41631   \n",
       "3                                     43134   \n",
       "4                                     44733   \n",
       "\n",
       "  Number of under-five deaths (thousands).2  \\\n",
       "0                                    Female   \n",
       "1                                     33966   \n",
       "2                                     35246   \n",
       "3                                     36636   \n",
       "4                                     38185   \n",
       "\n",
       "  Number of infant deaths (thousands) Number of infant deaths (thousands).1  \\\n",
       "0                          Both sexes                                  Male   \n",
       "1                               57182                                 31394   \n",
       "2                               58846                                 32244   \n",
       "3                               60673                                 33222   \n",
       "4                               62652                                 34257   \n",
       "\n",
       "  Number of infant deaths (thousands).2 Number of neonatal deaths (thousands)  \n",
       "0                                Female                            Both sexes  \n",
       "1                                 25788                                 44725  \n",
       "2                                 26602                                 45771  \n",
       "3                                 27451                                 46963  \n",
       "4                                 28395                                 48237  "
      ]
     },
     "execution_count": 12,
     "metadata": {},
     "output_type": "execute_result"
    }
   ],
   "source": [
    "num_deaths_raw.head()"
   ]
  },
  {
   "cell_type": "markdown",
   "id": "0ab83990",
   "metadata": {},
   "source": [
    "The same thing has to be done here as with the Adult Mortality data - the first row needs to be dropped, the columns all need renaming, and all the columns but 'country' have to be changed to integers. I will keep in mind that the numbers are in thousands."
   ]
  },
  {
   "cell_type": "markdown",
   "id": "787141ba",
   "metadata": {},
   "source": [
    "Dropping the first row and renaming columns"
   ]
  },
  {
   "cell_type": "code",
   "execution_count": 13,
   "id": "0626d8ff",
   "metadata": {},
   "outputs": [],
   "source": [
    "num_deaths = num_deaths_raw.drop(0)\n",
    "num_deaths.rename(columns={'Unnamed: 0':'country', \n",
    "                           'Unnamed: 1':'year', \n",
    "                           'Number of under-five deaths (thousands)':'under_five_both', \n",
    "                           'Number of under-five deaths (thousands).1':'under_five_male', \n",
    "                           'Number of under-five deaths (thousands).2':'under_five_female', \n",
    "                           'Number of infant deaths (thousands)':'infant_both', \n",
    "                           'Number of infant deaths (thousands).1':'infant_male', \n",
    "                           'Number of infant deaths (thousands).2':'infant_female', \n",
    "                           'Number of neonatal deaths (thousands)':'neonatal'\n",
    "                          }, inplace=True)"
   ]
  },
  {
   "cell_type": "markdown",
   "id": "feae332a",
   "metadata": {},
   "source": [
    "Changing columns to integers"
   ]
  },
  {
   "cell_type": "code",
   "execution_count": 14,
   "id": "137e15cd",
   "metadata": {},
   "outputs": [],
   "source": [
    "num_deaths = num_deaths.astype({'year':'int', \n",
    "                                'under_five_both':'int', \n",
    "                                'under_five_male':'int', \n",
    "                                'under_five_female':'int', \n",
    "                                'infant_both':'int', \n",
    "                                'infant_male':'int', \n",
    "                                'infant_female':'int', \n",
    "                                'neonatal':'int'\n",
    "                               })"
   ]
  },
  {
   "cell_type": "code",
   "execution_count": 15,
   "id": "e0af3f04",
   "metadata": {},
   "outputs": [
    {
     "data": {
      "text/html": [
       "<div>\n",
       "<style scoped>\n",
       "    .dataframe tbody tr th:only-of-type {\n",
       "        vertical-align: middle;\n",
       "    }\n",
       "\n",
       "    .dataframe tbody tr th {\n",
       "        vertical-align: top;\n",
       "    }\n",
       "\n",
       "    .dataframe thead th {\n",
       "        text-align: right;\n",
       "    }\n",
       "</style>\n",
       "<table border=\"1\" class=\"dataframe\">\n",
       "  <thead>\n",
       "    <tr style=\"text-align: right;\">\n",
       "      <th></th>\n",
       "      <th>country</th>\n",
       "      <th>year</th>\n",
       "      <th>under_five_both</th>\n",
       "      <th>under_five_male</th>\n",
       "      <th>under_five_female</th>\n",
       "      <th>infant_both</th>\n",
       "      <th>infant_male</th>\n",
       "      <th>infant_female</th>\n",
       "      <th>neonatal</th>\n",
       "    </tr>\n",
       "  </thead>\n",
       "  <tbody>\n",
       "    <tr>\n",
       "      <th>1</th>\n",
       "      <td>Afghanistan</td>\n",
       "      <td>2018</td>\n",
       "      <td>74278</td>\n",
       "      <td>40312</td>\n",
       "      <td>33966</td>\n",
       "      <td>57182</td>\n",
       "      <td>31394</td>\n",
       "      <td>25788</td>\n",
       "      <td>44725</td>\n",
       "    </tr>\n",
       "    <tr>\n",
       "      <th>2</th>\n",
       "      <td>Afghanistan</td>\n",
       "      <td>2017</td>\n",
       "      <td>76877</td>\n",
       "      <td>41631</td>\n",
       "      <td>35246</td>\n",
       "      <td>58846</td>\n",
       "      <td>32244</td>\n",
       "      <td>26602</td>\n",
       "      <td>45771</td>\n",
       "    </tr>\n",
       "    <tr>\n",
       "      <th>3</th>\n",
       "      <td>Afghanistan</td>\n",
       "      <td>2016</td>\n",
       "      <td>79770</td>\n",
       "      <td>43134</td>\n",
       "      <td>36636</td>\n",
       "      <td>60673</td>\n",
       "      <td>33222</td>\n",
       "      <td>27451</td>\n",
       "      <td>46963</td>\n",
       "    </tr>\n",
       "    <tr>\n",
       "      <th>4</th>\n",
       "      <td>Afghanistan</td>\n",
       "      <td>2015</td>\n",
       "      <td>82918</td>\n",
       "      <td>44733</td>\n",
       "      <td>38185</td>\n",
       "      <td>62652</td>\n",
       "      <td>34257</td>\n",
       "      <td>28395</td>\n",
       "      <td>48237</td>\n",
       "    </tr>\n",
       "    <tr>\n",
       "      <th>5</th>\n",
       "      <td>Afghanistan</td>\n",
       "      <td>2014</td>\n",
       "      <td>86378</td>\n",
       "      <td>46509</td>\n",
       "      <td>39869</td>\n",
       "      <td>64808</td>\n",
       "      <td>35410</td>\n",
       "      <td>29398</td>\n",
       "      <td>49715</td>\n",
       "    </tr>\n",
       "  </tbody>\n",
       "</table>\n",
       "</div>"
      ],
      "text/plain": [
       "       country  year  under_five_both  under_five_male  under_five_female  \\\n",
       "1  Afghanistan  2018            74278            40312              33966   \n",
       "2  Afghanistan  2017            76877            41631              35246   \n",
       "3  Afghanistan  2016            79770            43134              36636   \n",
       "4  Afghanistan  2015            82918            44733              38185   \n",
       "5  Afghanistan  2014            86378            46509              39869   \n",
       "\n",
       "   infant_both  infant_male  infant_female  neonatal  \n",
       "1        57182        31394          25788     44725  \n",
       "2        58846        32244          26602     45771  \n",
       "3        60673        33222          27451     46963  \n",
       "4        62652        34257          28395     48237  \n",
       "5        64808        35410          29398     49715  "
      ]
     },
     "execution_count": 15,
     "metadata": {},
     "output_type": "execute_result"
    }
   ],
   "source": [
    "num_deaths.head()"
   ]
  },
  {
   "cell_type": "markdown",
   "id": "bbc1ed10",
   "metadata": {},
   "source": [
    "## Probability of dying per 1000 live births"
   ]
  },
  {
   "cell_type": "code",
   "execution_count": 16,
   "id": "9ff31884",
   "metadata": {},
   "outputs": [
    {
     "data": {
      "text/html": [
       "<div>\n",
       "<style scoped>\n",
       "    .dataframe tbody tr th:only-of-type {\n",
       "        vertical-align: middle;\n",
       "    }\n",
       "\n",
       "    .dataframe tbody tr th {\n",
       "        vertical-align: top;\n",
       "    }\n",
       "\n",
       "    .dataframe thead th {\n",
       "        text-align: right;\n",
       "    }\n",
       "</style>\n",
       "<table border=\"1\" class=\"dataframe\">\n",
       "  <thead>\n",
       "    <tr style=\"text-align: right;\">\n",
       "      <th></th>\n",
       "      <th>Unnamed: 0</th>\n",
       "      <th>Unnamed: 1</th>\n",
       "      <th>Infant mortality rate (probability of dying between birth and age 1 per 1000 live births)</th>\n",
       "      <th>Infant mortality rate (probability of dying between birth and age 1 per 1000 live births).1</th>\n",
       "      <th>Infant mortality rate (probability of dying between birth and age 1 per 1000 live births).2</th>\n",
       "      <th>Neonatal mortality rate (per 1000 live births)</th>\n",
       "      <th>Under-five mortality rate (probability of dying by age 5 per 1000 live births)</th>\n",
       "      <th>Under-five mortality rate (probability of dying by age 5 per 1000 live births).1</th>\n",
       "      <th>Under-five mortality rate (probability of dying by age 5 per 1000 live births).2</th>\n",
       "    </tr>\n",
       "  </thead>\n",
       "  <tbody>\n",
       "    <tr>\n",
       "      <th>0</th>\n",
       "      <td>Country</td>\n",
       "      <td>Year</td>\n",
       "      <td>Both sexes</td>\n",
       "      <td>Male</td>\n",
       "      <td>Female</td>\n",
       "      <td>Both sexes</td>\n",
       "      <td>Both sexes</td>\n",
       "      <td>Male</td>\n",
       "      <td>Female</td>\n",
       "    </tr>\n",
       "    <tr>\n",
       "      <th>1</th>\n",
       "      <td>Afghanistan</td>\n",
       "      <td>2018</td>\n",
       "      <td>47.9</td>\n",
       "      <td>51.1</td>\n",
       "      <td>44.5</td>\n",
       "      <td>37.1</td>\n",
       "      <td>62.3</td>\n",
       "      <td>65.7</td>\n",
       "      <td>58.7</td>\n",
       "    </tr>\n",
       "    <tr>\n",
       "      <th>2</th>\n",
       "      <td>Afghanistan</td>\n",
       "      <td>2017</td>\n",
       "      <td>49.5</td>\n",
       "      <td>52.7</td>\n",
       "      <td>46</td>\n",
       "      <td>38.1</td>\n",
       "      <td>64.7</td>\n",
       "      <td>68.1</td>\n",
       "      <td>61.1</td>\n",
       "    </tr>\n",
       "    <tr>\n",
       "      <th>3</th>\n",
       "      <td>Afghanistan</td>\n",
       "      <td>2016</td>\n",
       "      <td>51.2</td>\n",
       "      <td>54.5</td>\n",
       "      <td>47.7</td>\n",
       "      <td>39.3</td>\n",
       "      <td>67.5</td>\n",
       "      <td>70.9</td>\n",
       "      <td>63.7</td>\n",
       "    </tr>\n",
       "    <tr>\n",
       "      <th>4</th>\n",
       "      <td>Afghanistan</td>\n",
       "      <td>2015</td>\n",
       "      <td>53.1</td>\n",
       "      <td>56.5</td>\n",
       "      <td>49.6</td>\n",
       "      <td>40.5</td>\n",
       "      <td>70.4</td>\n",
       "      <td>73.8</td>\n",
       "      <td>66.7</td>\n",
       "    </tr>\n",
       "  </tbody>\n",
       "</table>\n",
       "</div>"
      ],
      "text/plain": [
       "    Unnamed: 0 Unnamed: 1  \\\n",
       "0      Country       Year   \n",
       "1  Afghanistan       2018   \n",
       "2  Afghanistan       2017   \n",
       "3  Afghanistan       2016   \n",
       "4  Afghanistan       2015   \n",
       "\n",
       "  Infant mortality rate (probability of dying between birth and age 1 per 1000 live births)  \\\n",
       "0                                         Both sexes                                          \n",
       "1                                               47.9                                          \n",
       "2                                               49.5                                          \n",
       "3                                               51.2                                          \n",
       "4                                               53.1                                          \n",
       "\n",
       "  Infant mortality rate (probability of dying between birth and age 1 per 1000 live births).1  \\\n",
       "0                                               Male                                            \n",
       "1                                               51.1                                            \n",
       "2                                               52.7                                            \n",
       "3                                               54.5                                            \n",
       "4                                               56.5                                            \n",
       "\n",
       "  Infant mortality rate (probability of dying between birth and age 1 per 1000 live births).2  \\\n",
       "0                                             Female                                            \n",
       "1                                               44.5                                            \n",
       "2                                                 46                                            \n",
       "3                                               47.7                                            \n",
       "4                                               49.6                                            \n",
       "\n",
       "  Neonatal mortality rate (per 1000 live births)  \\\n",
       "0                                     Both sexes   \n",
       "1                                           37.1   \n",
       "2                                           38.1   \n",
       "3                                           39.3   \n",
       "4                                           40.5   \n",
       "\n",
       "  Under-five mortality rate (probability of dying by age 5 per 1000 live births)  \\\n",
       "0                                         Both sexes                               \n",
       "1                                               62.3                               \n",
       "2                                               64.7                               \n",
       "3                                               67.5                               \n",
       "4                                               70.4                               \n",
       "\n",
       "  Under-five mortality rate (probability of dying by age 5 per 1000 live births).1  \\\n",
       "0                                               Male                                 \n",
       "1                                               65.7                                 \n",
       "2                                               68.1                                 \n",
       "3                                               70.9                                 \n",
       "4                                               73.8                                 \n",
       "\n",
       "  Under-five mortality rate (probability of dying by age 5 per 1000 live births).2  \n",
       "0                                             Female                                \n",
       "1                                               58.7                                \n",
       "2                                               61.1                                \n",
       "3                                               63.7                                \n",
       "4                                               66.7                                "
      ]
     },
     "execution_count": 16,
     "metadata": {},
     "output_type": "execute_result"
    }
   ],
   "source": [
    "probability_dying_raw.head()"
   ]
  },
  {
   "cell_type": "markdown",
   "id": "b17f1954",
   "metadata": {},
   "source": [
    "The same thing will be done here - dropping the first row, changing column names, then changing to a numeric type."
   ]
  },
  {
   "cell_type": "code",
   "execution_count": 17,
   "id": "e14ec032",
   "metadata": {},
   "outputs": [],
   "source": [
    "probability_dying = probability_dying_raw.drop(0)\n",
    "probability_dying.rename(columns={'Unnamed: 0':'country', \n",
    "                                  'Unnamed: 1':'year', \n",
    "                                  'Infant mortality rate (probability of dying between birth and age 1 per 1000 live births)':'infant_both', \n",
    "                                  'Infant mortality rate (probability of dying between birth and age 1 per 1000 live births).1':'infant_male', \n",
    "                                  'Infant mortality rate (probability of dying between birth and age 1 per 1000 live births).2':'infant_female', \n",
    "                                  'Neonatal mortality rate (per 1000 live births)':'neonatal', \n",
    "                                  'Under-five mortality rate (probability of dying by age 5 per 1000 live births)':'under_five_both', \n",
    "                                  'Under-five mortality rate (probability of dying by age 5 per 1000 live births).1':'under_five_male', \n",
    "                                  'Under-five mortality rate (probability of dying by age 5 per 1000 live births).2':'under_five_female'\n",
    "                                 }, inplace=True)\n"
   ]
  },
  {
   "cell_type": "markdown",
   "id": "adfd1c41",
   "metadata": {},
   "source": [
    "Changing the relevant columns to numeric, bearing in mind that this dataset contains a lot of decimal numbers, so we use float instead of int types.\n"
   ]
  },
  {
   "cell_type": "code",
   "execution_count": 18,
   "id": "0e05993c",
   "metadata": {},
   "outputs": [],
   "source": [
    "probability_dying = probability_dying.astype({'year':'int', \n",
    "                                              'infant_both':'float', \n",
    "                                              'infant_male':'float', \n",
    "                                              'infant_female':'float', \n",
    "                                              'infant_female':'float', \n",
    "                                              'neonatal':'float', \n",
    "                                              'under_five_both':'float', \n",
    "                                              'under_five_male':'float', \n",
    "                                              'under_five_female':'float'\n",
    "                                             })"
   ]
  },
  {
   "cell_type": "code",
   "execution_count": 19,
   "id": "ff74f1c1",
   "metadata": {},
   "outputs": [
    {
     "data": {
      "text/html": [
       "<div>\n",
       "<style scoped>\n",
       "    .dataframe tbody tr th:only-of-type {\n",
       "        vertical-align: middle;\n",
       "    }\n",
       "\n",
       "    .dataframe tbody tr th {\n",
       "        vertical-align: top;\n",
       "    }\n",
       "\n",
       "    .dataframe thead th {\n",
       "        text-align: right;\n",
       "    }\n",
       "</style>\n",
       "<table border=\"1\" class=\"dataframe\">\n",
       "  <thead>\n",
       "    <tr style=\"text-align: right;\">\n",
       "      <th></th>\n",
       "      <th>country</th>\n",
       "      <th>year</th>\n",
       "      <th>infant_both</th>\n",
       "      <th>infant_male</th>\n",
       "      <th>infant_female</th>\n",
       "      <th>neonatal</th>\n",
       "      <th>under_five_both</th>\n",
       "      <th>under_five_male</th>\n",
       "      <th>under_five_female</th>\n",
       "    </tr>\n",
       "  </thead>\n",
       "  <tbody>\n",
       "    <tr>\n",
       "      <th>1</th>\n",
       "      <td>Afghanistan</td>\n",
       "      <td>2018</td>\n",
       "      <td>47.9</td>\n",
       "      <td>51.1</td>\n",
       "      <td>44.5</td>\n",
       "      <td>37.1</td>\n",
       "      <td>62.3</td>\n",
       "      <td>65.7</td>\n",
       "      <td>58.7</td>\n",
       "    </tr>\n",
       "    <tr>\n",
       "      <th>2</th>\n",
       "      <td>Afghanistan</td>\n",
       "      <td>2017</td>\n",
       "      <td>49.5</td>\n",
       "      <td>52.7</td>\n",
       "      <td>46.0</td>\n",
       "      <td>38.1</td>\n",
       "      <td>64.7</td>\n",
       "      <td>68.1</td>\n",
       "      <td>61.1</td>\n",
       "    </tr>\n",
       "    <tr>\n",
       "      <th>3</th>\n",
       "      <td>Afghanistan</td>\n",
       "      <td>2016</td>\n",
       "      <td>51.2</td>\n",
       "      <td>54.5</td>\n",
       "      <td>47.7</td>\n",
       "      <td>39.3</td>\n",
       "      <td>67.5</td>\n",
       "      <td>70.9</td>\n",
       "      <td>63.7</td>\n",
       "    </tr>\n",
       "    <tr>\n",
       "      <th>4</th>\n",
       "      <td>Afghanistan</td>\n",
       "      <td>2015</td>\n",
       "      <td>53.1</td>\n",
       "      <td>56.5</td>\n",
       "      <td>49.6</td>\n",
       "      <td>40.5</td>\n",
       "      <td>70.4</td>\n",
       "      <td>73.8</td>\n",
       "      <td>66.7</td>\n",
       "    </tr>\n",
       "    <tr>\n",
       "      <th>5</th>\n",
       "      <td>Afghanistan</td>\n",
       "      <td>2014</td>\n",
       "      <td>55.1</td>\n",
       "      <td>58.6</td>\n",
       "      <td>51.5</td>\n",
       "      <td>41.9</td>\n",
       "      <td>73.6</td>\n",
       "      <td>77.0</td>\n",
       "      <td>69.9</td>\n",
       "    </tr>\n",
       "  </tbody>\n",
       "</table>\n",
       "</div>"
      ],
      "text/plain": [
       "       country  year  infant_both  infant_male  infant_female  neonatal  \\\n",
       "1  Afghanistan  2018         47.9         51.1           44.5      37.1   \n",
       "2  Afghanistan  2017         49.5         52.7           46.0      38.1   \n",
       "3  Afghanistan  2016         51.2         54.5           47.7      39.3   \n",
       "4  Afghanistan  2015         53.1         56.5           49.6      40.5   \n",
       "5  Afghanistan  2014         55.1         58.6           51.5      41.9   \n",
       "\n",
       "   under_five_both  under_five_male  under_five_female  \n",
       "1             62.3             65.7               58.7  \n",
       "2             64.7             68.1               61.1  \n",
       "3             67.5             70.9               63.7  \n",
       "4             70.4             73.8               66.7  \n",
       "5             73.6             77.0               69.9  "
      ]
     },
     "execution_count": 19,
     "metadata": {},
     "output_type": "execute_result"
    }
   ],
   "source": [
    "probability_dying.head()"
   ]
  },
  {
   "cell_type": "markdown",
   "id": "c53da279",
   "metadata": {},
   "source": [
    "Now that we have cleaned our data and done the necessary transformation, we can proceed to create tables in an SQL database, insert the data into the tables, and then query the database and perform our visualizations. "
   ]
  },
  {
   "cell_type": "markdown",
   "id": "0fd594c5",
   "metadata": {},
   "source": [
    "# SQLite3 Database\n",
    "\n",
    "We start by creating the database.\n"
   ]
  },
  {
   "cell_type": "code",
   "execution_count": 20,
   "id": "65aff5a6",
   "metadata": {},
   "outputs": [
    {
     "name": "stdout",
     "output_type": "stream",
     "text": [
      "0\n"
     ]
    }
   ],
   "source": [
    "conn = sqlite3.connect(\"mortality.db\")\n",
    "print(conn.total_changes)"
   ]
  },
  {
   "cell_type": "markdown",
   "id": "b4ceee5f",
   "metadata": {},
   "source": [
    "Now we have verified the connection and database, we can create our tables."
   ]
  },
  {
   "cell_type": "code",
   "execution_count": 21,
   "id": "0858b90b",
   "metadata": {},
   "outputs": [],
   "source": [
    "cursor = conn.cursor()"
   ]
  },
  {
   "cell_type": "markdown",
   "id": "36929076",
   "metadata": {},
   "source": [
    "\"adult\" table"
   ]
  },
  {
   "cell_type": "code",
   "execution_count": 22,
   "id": "3009a96c",
   "metadata": {},
   "outputs": [
    {
     "data": {
      "text/plain": [
       "<sqlite3.Cursor at 0x21da3c946c0>"
      ]
     },
     "execution_count": 22,
     "metadata": {},
     "output_type": "execute_result"
    }
   ],
   "source": [
    "cursor.execute(\"\"\"\n",
    "CREATE TABLE IF NOT EXISTS adult (\n",
    "country VARCHAR(20), \n",
    "year INTEGER, \n",
    "adult_mortality_both INTEGER, \n",
    "adult_mortality_male INTEGER, \n",
    "adult_mortality_female INTEGER\n",
    ")\n",
    "\"\"\")"
   ]
  },
  {
   "cell_type": "markdown",
   "id": "665ca566",
   "metadata": {},
   "source": [
    "\"maternal\" table"
   ]
  },
  {
   "cell_type": "code",
   "execution_count": 23,
   "id": "3f8a8556",
   "metadata": {},
   "outputs": [
    {
     "data": {
      "text/plain": [
       "<sqlite3.Cursor at 0x21da3c946c0>"
      ]
     },
     "execution_count": 23,
     "metadata": {},
     "output_type": "execute_result"
    }
   ],
   "source": [
    "cursor.execute(\"\"\"\n",
    "CREATE TABLE IF NOT EXISTS maternal (\n",
    "country VARCHAR(20), \n",
    "year INTEGER, \n",
    "maternal_mortality_ratio VARCHAR(20), \n",
    "maternal_deaths VARCHAR(20)\n",
    ")\n",
    "\"\"\")"
   ]
  },
  {
   "cell_type": "markdown",
   "id": "49fb2543",
   "metadata": {},
   "source": [
    "\"num_deaths\" table"
   ]
  },
  {
   "cell_type": "code",
   "execution_count": 24,
   "id": "27bb7633",
   "metadata": {},
   "outputs": [
    {
     "data": {
      "text/plain": [
       "<sqlite3.Cursor at 0x21da3c946c0>"
      ]
     },
     "execution_count": 24,
     "metadata": {},
     "output_type": "execute_result"
    }
   ],
   "source": [
    "cursor.execute(\"\"\"\n",
    "CREATE TABLE IF NOT EXISTS num_deaths (\n",
    "country VARCHAR(20), \n",
    "year INTEGER, \n",
    "under_five_both INTEGER, \n",
    "under_five_male INTEGER, \n",
    "under_five_female INTEGER, \n",
    "infant_both INTEGER, \n",
    "infant_male INTEGER, \n",
    "infant_female INTEGER, \n",
    "neonatal INTEGER\n",
    ")\n",
    "\"\"\")"
   ]
  },
  {
   "cell_type": "markdown",
   "id": "9c46b73e",
   "metadata": {},
   "source": [
    "\"probability_dying\" table"
   ]
  },
  {
   "cell_type": "code",
   "execution_count": 25,
   "id": "f206e032",
   "metadata": {},
   "outputs": [
    {
     "data": {
      "text/plain": [
       "<sqlite3.Cursor at 0x21da3c946c0>"
      ]
     },
     "execution_count": 25,
     "metadata": {},
     "output_type": "execute_result"
    }
   ],
   "source": [
    "cursor.execute(\"\"\"\n",
    "CREATE TABLE IF NOT EXISTS probability_dying (\n",
    "country VARCHAR(20), \n",
    "year INTEGER, \n",
    "infant_both FLOAT, \n",
    "infant_male FLOAT, \n",
    "infant_female FLOAT, \n",
    "neonatal FLOAT, \n",
    "under_five_both FLOAT, \n",
    "under_five_male FLOAT, \n",
    "under_five_female FLOAT\n",
    ")\n",
    "\"\"\")"
   ]
  },
  {
   "cell_type": "markdown",
   "id": "a9064f3c",
   "metadata": {},
   "source": [
    "## Inserting the data into the SQLite3 tables"
   ]
  },
  {
   "cell_type": "code",
   "execution_count": 26,
   "id": "889ce89f",
   "metadata": {},
   "outputs": [],
   "source": [
    "adult_mortality.to_sql('adult', conn, if_exists='replace', index=False)"
   ]
  },
  {
   "cell_type": "code",
   "execution_count": 27,
   "id": "696fceeb",
   "metadata": {},
   "outputs": [],
   "source": [
    "maternal_mortality.to_sql('maternal', conn, if_exists='replace', index=False)"
   ]
  },
  {
   "cell_type": "code",
   "execution_count": 28,
   "id": "55130336",
   "metadata": {},
   "outputs": [],
   "source": [
    "num_deaths.to_sql('num_deaths', conn, if_exists='replace', index=False)"
   ]
  },
  {
   "cell_type": "code",
   "execution_count": 29,
   "id": "013a5004",
   "metadata": {},
   "outputs": [],
   "source": [
    "probability_dying.to_sql('probability_dying', conn, if_exists='replace', index=False)"
   ]
  },
  {
   "cell_type": "markdown",
   "id": "8f1702e0",
   "metadata": {},
   "source": [
    "Now that we have our tables, we can start querying them with SQL statements, and return the results to new dataframes for visualization in matplotlib.pylot."
   ]
  },
  {
   "cell_type": "markdown",
   "id": "5ca21afe",
   "metadata": {},
   "source": [
    "Let us start with a simple example to test whether our database is working.\n",
    "\n",
    "We will try to find the data for adult mortality rates(both sexes), for the country of Australia, between 2002 and 2009."
   ]
  },
  {
   "cell_type": "markdown",
   "id": "1f2057e2",
   "metadata": {},
   "source": [
    "Testing to see if SQL query works:"
   ]
  },
  {
   "cell_type": "code",
   "execution_count": 30,
   "id": "a45a398b",
   "metadata": {},
   "outputs": [
    {
     "name": "stdout",
     "output_type": "stream",
     "text": [
      "[('Australia', 2009, 65), ('Australia', 2008, 64), ('Australia', 2007, 65), ('Australia', 2006, 65), ('Australia', 2005, 68), ('Australia', 2004, 67), ('Australia', 2003, 69), ('Australia', 2002, 72)]\n"
     ]
    }
   ],
   "source": [
    "test_aus = cursor.execute(\"\"\"\n",
    "SELECT country, year, adult_mortality_both FROM adult\n",
    "WHERE country = 'Australia'\n",
    "AND\n",
    "YEAR BETWEEN 2002 AND 2009\n",
    "\"\"\").fetchall()\n",
    "print(test_aus)"
   ]
  },
  {
   "cell_type": "markdown",
   "id": "0cae158c",
   "metadata": {},
   "source": [
    "Turning the result into a pandas dataframe"
   ]
  },
  {
   "cell_type": "code",
   "execution_count": 31,
   "id": "1638c43b",
   "metadata": {},
   "outputs": [
    {
     "name": "stdout",
     "output_type": "stream",
     "text": [
      "     country  year  adult_mortality_both\n",
      "0  Australia  2009                    65\n",
      "1  Australia  2008                    64\n",
      "2  Australia  2007                    65\n",
      "3  Australia  2006                    65\n",
      "4  Australia  2005                    68\n",
      "5  Australia  2004                    67\n",
      "6  Australia  2003                    69\n",
      "7  Australia  2002                    72\n"
     ]
    }
   ],
   "source": [
    "test_aus2 = pd.DataFrame(test_aus, columns=['country', 'year', 'adult_mortality_both'])\n",
    "print(test_aus2)\n"
   ]
  },
  {
   "cell_type": "markdown",
   "id": "b422f91d",
   "metadata": {},
   "source": [
    "# Driving Question 1: Which country had the highest average adult mortality rate across all available years?"
   ]
  },
  {
   "cell_type": "markdown",
   "id": "dde6c49b",
   "metadata": {},
   "source": [
    "To answer this question, I will average the number of adult deaths by country regardless of year. Then, I will export the results to a pandas dataframe and visualize it with a bar chart in matplotlib.pyplot."
   ]
  },
  {
   "cell_type": "code",
   "execution_count": 32,
   "id": "c479976b",
   "metadata": {},
   "outputs": [],
   "source": [
    "dq1 = cursor.execute(\"\"\"\n",
    "SELECT country, AVG(adult_mortality_both)\n",
    "FROM adult\n",
    "GROUP BY country\n",
    "ORDER BY AVG(adult_mortality_both) DESC\n",
    "\"\"\").fetchall()"
   ]
  },
  {
   "cell_type": "markdown",
   "id": "8ee2391b",
   "metadata": {},
   "source": [
    "Converting the SQL table result to a pandas dataframe"
   ]
  },
  {
   "cell_type": "code",
   "execution_count": 33,
   "id": "4c4eb0cc",
   "metadata": {},
   "outputs": [
    {
     "name": "stdout",
     "output_type": "stream",
     "text": [
      "                      country  adult_mortality\n",
      "0                    Zimbabwe       549.352941\n",
      "1                     Lesotho       536.235294\n",
      "2                    Eswatini       529.000000\n",
      "3    Central African Republic       491.647059\n",
      "4                Sierra Leone       452.117647\n",
      "..                        ...              ...\n",
      "178                     Italy        62.294118\n",
      "179                    Sweden        62.176471\n",
      "180                     Malta        61.470588\n",
      "181               Switzerland        61.294118\n",
      "182                   Iceland        59.117647\n",
      "\n",
      "[183 rows x 2 columns]\n"
     ]
    }
   ],
   "source": [
    "dq1_df = pd.DataFrame(dq1, columns=['country', 'adult_mortality'])\n",
    "print(dq1_df)"
   ]
  },
  {
   "cell_type": "markdown",
   "id": "d3c6276c",
   "metadata": {},
   "source": [
    "Plotting a bar chart using the dataframe"
   ]
  },
  {
   "cell_type": "code",
   "execution_count": 34,
   "id": "3fbe68cf",
   "metadata": {},
   "outputs": [
    {
     "data": {
      "image/png": "[encoded data removed]",
      "text/plain": [
       "<Figure size 432x288 with 1 Axes>"
      ]
     },
     "metadata": {
      "needs_background": "light"
     },
     "output_type": "display_data"
    }
   ],
   "source": [
    "plt.bar(dq1_df['country'], dq1_df['adult_mortality'], color='b')\n",
    "plt.axvline(x=5, color='r', label = 'x=5')\n",
    "plt.axvline(x=23, color = 'g', label = 'x=23')\n",
    "plt.xlabel(\"Country\")\n",
    "plt.ylabel(\"Adult Mortality (per 1000)\")\n",
    "plt.title(\"Adult Mortality per 1000 for various countries (defined as age 15-60)\")\n",
    "plt.legend()\n",
    "plt.show()"
   ]
  },
  {
   "cell_type": "markdown",
   "id": "0010ade6",
   "metadata": {},
   "source": [
    "From the visualization we can see that there is a steep drop after the first 4 or so countries, and another drop after the first 23. The country with the highest adult mortality rate from 2000-2017 is Zimbabwe, with 549.35 adult deaths per 1000 people in the population each year on average."
   ]
  },
  {
   "cell_type": "markdown",
   "id": "56f2cf0a",
   "metadata": {},
   "source": [
    "# Driving Question 2: Which country has the highest discrepancy between male and female infant deaths?"
   ]
  },
  {
   "cell_type": "markdown",
   "id": "c7cefbf5",
   "metadata": {},
   "source": [
    "To answer this question, I will use SQL to give us the answer, but I will also plot the difference between male and female infant deaths to visualize the difference for each country."
   ]
  },
  {
   "cell_type": "code",
   "execution_count": 35,
   "id": "127d68be",
   "metadata": {},
   "outputs": [],
   "source": [
    "dq2 = cursor.execute(\"\"\"\n",
    "SELECT country, AVG(infant_male)-AVG(infant_female)\n",
    "FROM num_deaths\n",
    "GROUP BY country\n",
    "ORDER BY ABS(AVG(infant_male)-AVG(infant_female)) DESC\n",
    "\"\"\").fetchall()"
   ]
  },
  {
   "cell_type": "markdown",
   "id": "e878aca2",
   "metadata": {},
   "source": [
    "Converting the SQL table returned to a pandas dataframe"
   ]
  },
  {
   "cell_type": "code",
   "execution_count": 36,
   "id": "1b71cdd2",
   "metadata": {},
   "outputs": [
    {
     "name": "stdout",
     "output_type": "stream",
     "text": [
      "                              country           m_f\n",
      "0                             Nigeria  66169.000000\n",
      "1                            Pakistan  47912.000000\n",
      "2                               India  34635.166667\n",
      "3    Democratic Republic of the Congo  23833.333333\n",
      "4                            Ethiopia  22601.500000\n",
      "..                                ...           ...\n",
      "189                        San Marino     -0.666667\n",
      "190                             Palau      0.500000\n",
      "191                            Tuvalu      0.333333\n",
      "192                      Cook Islands      0.000000\n",
      "193                           Andorra      0.000000\n",
      "\n",
      "[194 rows x 2 columns]\n"
     ]
    }
   ],
   "source": [
    "dq2_df = pd.DataFrame(dq2, columns=['country','m_f'])\n",
    "print(dq2_df)"
   ]
  },
  {
   "cell_type": "markdown",
   "id": "2118c3e3",
   "metadata": {},
   "source": [
    "Presenting the results in a bar chart"
   ]
  },
  {
   "cell_type": "code",
   "execution_count": 37,
   "id": "bcf8c565",
   "metadata": {},
   "outputs": [
    {
     "data": {
      "image/png": "[encoded data removed]",
      "text/plain": [
       "<Figure size 432x288 with 1 Axes>"
      ]
     },
     "metadata": {
      "needs_background": "light"
     },
     "output_type": "display_data"
    }
   ],
   "source": [
    "plt.bar(dq2_df['country'], dq2_df['m_f'], color = 'b')\n",
    "plt.xlabel('Country')\n",
    "plt.axvline(x=7, color='r', label = 'x=7')\n",
    "plt.ylabel('Male deaths - female deaths (1000s)')\n",
    "plt.title('Difference between male and female infant deaths (100s) (defined as between birth and 1 year old)')\n",
    "plt.legend()\n",
    "plt.show()"
   ]
  },
  {
   "cell_type": "markdown",
   "id": "f6824031",
   "metadata": {},
   "source": [
    "As can be seen from the visualization, the first 7 countries are the highest offenders, with the difference between male and female infant deaths being much closer to the same for other countries. Purely out of curiosity, let us see if there are any countries with more male infants dying than female ones."
   ]
  },
  {
   "cell_type": "markdown",
   "id": "72a5b015",
   "metadata": {},
   "source": [
    "Modify the SQL statement to include a HAVING clause where the (average male deaths - average female deaths) is less than 0."
   ]
  },
  {
   "cell_type": "code",
   "execution_count": 38,
   "id": "d41bea2d",
   "metadata": {},
   "outputs": [],
   "source": [
    "dq2_mod = cursor.execute(\"\"\"\n",
    "SELECT country, AVG(infant_male)-AVG(infant_female)\n",
    "FROM num_deaths\n",
    "GROUP BY country\n",
    "HAVING AVG(infant_male)-AVG(infant_female)<0\n",
    "ORDER BY ABS(AVG(infant_male)-AVG(infant_female)) DESC\n",
    "\"\"\").fetchall()"
   ]
  },
  {
   "cell_type": "markdown",
   "id": "bb9006b5",
   "metadata": {},
   "source": [
    "Convert the SQL table to a pandas dataframe"
   ]
  },
  {
   "cell_type": "code",
   "execution_count": 39,
   "id": "2d57ea81",
   "metadata": {},
   "outputs": [
    {
     "name": "stdout",
     "output_type": "stream",
     "text": [
      "      country       m_f\n",
      "0       Tonga -4.000000\n",
      "1        Niue -1.000000\n",
      "2  San Marino -0.666667\n"
     ]
    }
   ],
   "source": [
    "dq2mod_df = pd.DataFrame(dq2_mod, columns=['country','m_f'])\n",
    "print(dq2mod_df)"
   ]
  },
  {
   "cell_type": "markdown",
   "id": "de90a0fb",
   "metadata": {},
   "source": [
    "Plot the results on a graph"
   ]
  },
  {
   "cell_type": "code",
   "execution_count": 40,
   "id": "d7609432",
   "metadata": {},
   "outputs": [
    {
     "data": {
      "image/png": "[encoded data removed]",
      "text/plain": [
       "<Figure size 432x288 with 1 Axes>"
      ]
     },
     "metadata": {
      "needs_background": "light"
     },
     "output_type": "display_data"
    }
   ],
   "source": [
    "plt.bar(dq2mod_df['country'], dq2mod_df['m_f'], color = 'b')\n",
    "plt.xlabel('Country')\n",
    "plt.ylabel('Male deaths - female deaths (per 1000)')\n",
    "plt.title('Difference between male and female infant deaths (1000s) (defined as between birth and 1 year old)')\n",
    "plt.show()"
   ]
  },
  {
   "cell_type": "markdown",
   "id": "ba8f235d",
   "metadata": {},
   "source": [
    "With only 3 countries having more male infant deaths than female ones, one might be inclined to believe that male infants have higher survivability - of course, this may very well not be the case, and the results might be affected by external factors."
   ]
  },
  {
   "cell_type": "markdown",
   "id": "31bf5937",
   "metadata": {},
   "source": [
    "# Driving Question 3: Which country had the highest birth rate from 2000-2017? "
   ]
  },
  {
   "cell_type": "markdown",
   "id": "d274ae0b",
   "metadata": {},
   "source": [
    "To answer this question, I will be using the neonatal death statistics. From the \"number of deaths\" data, I have the number of neonatal deaths for each country per year, and from the \"probability of dying\" data, I have the probability of a neonatal death for each country per year.\n",
    "\n",
    "Using these, I can calculate the number of total births that year. It is slightly inaccurate, because a child could be born in mid-December 2000 and die in January 2001, and its death would count towards January, therefore contributing to the birth rate in 2001 under my calculation, but this is somewhat a fringe case and should not throw off results by much. \n",
    "\n",
    "I will use a join, both on country and year, and take (number of neonatal deaths * 1000/probability of neonatal deaths), averaging them over the years, for each country. "
   ]
  },
  {
   "cell_type": "code",
   "execution_count": 41,
   "id": "d3124208",
   "metadata": {},
   "outputs": [],
   "source": [
    "dq3 = cursor.execute(\"\"\"\n",
    "SELECT a.country, AVG(a.neonatal)*AVG(1000/b.neonatal)\n",
    "FROM num_deaths a\n",
    "INNER JOIN probability_dying b ON a.country = b.country AND a.year = b.year\n",
    "GROUP BY a.country\n",
    "ORDER BY AVG(a.neonatal)*AVG(1000/b.neonatal) DESC\n",
    "\"\"\").fetchall()"
   ]
  },
  {
   "cell_type": "markdown",
   "id": "b3b20d12",
   "metadata": {},
   "source": [
    "Convert the SQL table returned to a pandas dataframe"
   ]
  },
  {
   "cell_type": "code",
   "execution_count": 42,
   "id": "eff921a4",
   "metadata": {},
   "outputs": [
    {
     "name": "stdout",
     "output_type": "stream",
     "text": [
      "          country    birth_rate\n",
      "0           India  2.457788e+07\n",
      "1           China  1.773700e+07\n",
      "2         Nigeria  7.179330e+06\n",
      "3        Pakistan  5.840501e+06\n",
      "4       Indonesia  4.964464e+06\n",
      "..            ...           ...\n",
      "189        Tuvalu  2.933174e+02\n",
      "190  Cook Islands  2.575237e+02\n",
      "191         Palau  2.443824e+02\n",
      "192    San Marino  0.000000e+00\n",
      "193          Niue  0.000000e+00\n",
      "\n",
      "[194 rows x 2 columns]\n"
     ]
    }
   ],
   "source": [
    "dq3_df = pd.DataFrame(dq3, columns=['country','birth_rate'])\n",
    "print(dq3_df)"
   ]
  },
  {
   "cell_type": "markdown",
   "id": "256081bc",
   "metadata": {},
   "source": [
    "Create a bar chart to visualise the data"
   ]
  },
  {
   "cell_type": "code",
   "execution_count": 43,
   "id": "a6bcd6dd",
   "metadata": {},
   "outputs": [
    {
     "data": {
      "image/png": "[encoded data removed]",
      "text/plain": [
       "<Figure size 432x288 with 1 Axes>"
      ]
     },
     "metadata": {
      "needs_background": "light"
     },
     "output_type": "display_data"
    }
   ],
   "source": [
    "plt.bar(dq3_df['country'], dq3_df['birth_rate'], color = 'b')\n",
    "plt.axvline(x=5, color='r', label='x=5')\n",
    "plt.xlabel('Country')\n",
    "plt.ylabel('Number of births per year on average')\n",
    "plt.title('Number of births per country on average (1000s)')\n",
    "plt.legend()\n",
    "plt.show()"
   ]
  },
  {
   "cell_type": "markdown",
   "id": "785df29d",
   "metadata": {},
   "source": [
    "Once again, it can be seen that the top 5 or so countries distinguish themselves very clearly from the rest. However, looking at the data, it occured to me that the number of neonatal deaths per year could not be in the thousands, like what was said on Kaggle. I took a closer look at the data from India, China, and Singapore. \n",
    "\n",
    "A cursory search on Google showed that the birth rate in India was around 24 million/year, the number of births in China in 2016 was 17.86 million, and the number of citizen births per year in Singapore in 2015 was 32,725."
   ]
  },
  {
   "cell_type": "markdown",
   "id": "384fb3f2",
   "metadata": {},
   "source": [
    "## Calculating India's birth rate manually"
   ]
  },
  {
   "cell_type": "code",
   "execution_count": 44,
   "id": "c2e578f6",
   "metadata": {},
   "outputs": [
    {
     "name": "stdout",
     "output_type": "stream",
     "text": [
      "[('India', 621135.5, 25.416666666666668)]\n"
     ]
    }
   ],
   "source": [
    "dq3 = cursor.execute(\"\"\"\n",
    "SELECT a.country, AVG(a.neonatal), AVG(b.neonatal)\n",
    "FROM num_deaths a\n",
    "INNER JOIN probability_dying b ON a.country = b.country AND a.year = b.year\n",
    "GROUP BY a.country\n",
    "HAVING a.country = 'India'\n",
    "\"\"\").fetchall()\n",
    "print(dq3)"
   ]
  },
  {
   "cell_type": "markdown",
   "id": "16d36cf0",
   "metadata": {},
   "source": [
    "With 621135.5 (thousand, if we believe the Kaggle header) neonatal deaths per year on average and 25.416 neonatal deaths per 1000 live births, the total number of births per year in India would be:"
   ]
  },
  {
   "cell_type": "code",
   "execution_count": 45,
   "id": "3fbbaefa",
   "metadata": {},
   "outputs": [
    {
     "data": {
      "text/plain": [
       "24438759049.417686"
      ]
     },
     "execution_count": 45,
     "metadata": {},
     "output_type": "execute_result"
    }
   ],
   "source": [
    "(621135.5/25.416)*1000*1000"
   ]
  },
  {
   "cell_type": "markdown",
   "id": "b1fea43e",
   "metadata": {},
   "source": [
    "This is almost exactly a thousand times more than what Google told me.\n",
    "\n",
    "## Taking a look at China, specifically in 2016:"
   ]
  },
  {
   "cell_type": "code",
   "execution_count": 46,
   "id": "511dccbb",
   "metadata": {},
   "outputs": [
    {
     "name": "stdout",
     "output_type": "stream",
     "text": [
      "[('China', 86915, 5.0)]\n"
     ]
    }
   ],
   "source": [
    "dq3 = cursor.execute(\"\"\"\n",
    "SELECT a.country, a.neonatal, b.neonatal\n",
    "FROM num_deaths a\n",
    "INNER JOIN probability_dying b ON a.country = b.country AND a.year = b.year\n",
    "WHERE a.country = 'China'\n",
    "AND a.year = 2016\n",
    "\"\"\").fetchall()\n",
    "print(dq3)"
   ]
  },
  {
   "cell_type": "markdown",
   "id": "a9489dcb",
   "metadata": {},
   "source": [
    "The number of live births in China in 2016 would therefore be:"
   ]
  },
  {
   "cell_type": "code",
   "execution_count": 47,
   "id": "72df3516",
   "metadata": {},
   "outputs": [
    {
     "data": {
      "text/plain": [
       "17383000000.0"
      ]
     },
     "execution_count": 47,
     "metadata": {},
     "output_type": "execute_result"
    }
   ],
   "source": [
    "(86915/5)*1000*1000"
   ]
  },
  {
   "cell_type": "markdown",
   "id": "7f338026",
   "metadata": {},
   "source": [
    "Once again, this is a thousand times more than the Google search suggested.\n",
    "\n",
    "## Examining Singapore now, between 2011-2015:"
   ]
  },
  {
   "cell_type": "code",
   "execution_count": 48,
   "id": "bb832332",
   "metadata": {},
   "outputs": [
    {
     "name": "stdout",
     "output_type": "stream",
     "text": [
      "[('Singapore', 52, 1.0)]\n"
     ]
    }
   ],
   "source": [
    "dq3 = cursor.execute(\"\"\"\n",
    "SELECT a.country, a.neonatal, b.neonatal\n",
    "FROM num_deaths a\n",
    "INNER JOIN probability_dying b ON a.country = b.country AND a.year = b.year\n",
    "WHERE a.year = 2015\n",
    "GROUP BY a.country\n",
    "HAVING a.country = 'Singapore'\n",
    "\"\"\").fetchall()\n",
    "print(dq3)"
   ]
  },
  {
   "cell_type": "markdown",
   "id": "29c157e6",
   "metadata": {},
   "source": [
    "The number of births in Singapore between 2011-2015 would therefore be:"
   ]
  },
  {
   "cell_type": "code",
   "execution_count": 49,
   "id": "b6c31adf",
   "metadata": {},
   "outputs": [
    {
     "data": {
      "text/plain": [
       "52000000.0"
      ]
     },
     "execution_count": 49,
     "metadata": {},
     "output_type": "execute_result"
    }
   ],
   "source": [
    "(52.0/1.0)*1000*1000"
   ]
  },
  {
   "cell_type": "markdown",
   "id": "a33774b7",
   "metadata": {},
   "source": [
    "Not only is this multiplied a thousandfold, it is also larger than the result returned by Google. However, Google specified that these were *citizen* births; I would speculate that our data shows all births in Singapore. \n",
    "\n",
    "All in all, since the results from the Kaggle data and my searches on Google consistently deviate by a factor of 1000, I am inclined to believe, although I can only speculate, that the data for the number of deaths is not by the thousands after all, at least for the neonatal death data. There is no source provided, nor metadata or a writeup on the methods of collection on the Kaggle page, so I cannot further verify this."
   ]
  },
  {
   "cell_type": "code",
   "execution_count": 50,
   "id": "09ec4be6",
   "metadata": {},
   "outputs": [],
   "source": [
    "conn.close()"
   ]
  }
 ],
 "metadata": {
  "kernelspec": {
   "display_name": "Python 3 (ipykernel)",
   "language": "python",
   "name": "python3"
  },
  "language_info": {
   "codemirror_mode": {
    "name": "ipython",
    "version": 3
   },
   "file_extension": ".py",
   "mimetype": "text/x-python",
   "name": "python",
   "nbconvert_exporter": "python",
   "pygments_lexer": "ipython3",
   "version": "3.8.12"
  }
 },
 "nbformat": 4,
 "nbformat_minor": 5
}
